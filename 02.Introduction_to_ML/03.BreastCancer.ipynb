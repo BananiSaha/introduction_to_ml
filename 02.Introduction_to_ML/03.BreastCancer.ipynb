{
 "cells": [
  {
   "cell_type": "markdown",
   "metadata": {},
   "source": [
    "# 02.3 Predict if a tumor is benign or maligant"
   ]
  },
  {
   "cell_type": "code",
   "execution_count": null,
   "metadata": {},
   "outputs": [],
   "source": [
    "#Is this a classification or regression problem ?\n",
    "\n",
    "from sklearn.datasets import load_breast_cancer\n",
    "import pandas as pd\n",
    "\n",
    "cancer = load_breast_cancer()\n",
    "\n",
    "X = cancer.data\n",
    "y = cancer.target\n",
    "df = pd.DataFrame(X, columns=cancer.feature_names)\n",
    "print(f\"Shape of dataframe {df.shape}\")"
   ]
  },
  {
   "cell_type": "code",
   "execution_count": null,
   "metadata": {},
   "outputs": [],
   "source": [
    "features = ['radius error', 'texture error', 'concave points error',\n",
    "            'symmetry error', 'worst texture', 'worst smoothness',\n",
    "            'worst symmetry']\n",
    "df = df[features] # select just these features\n",
    "print(\"target[0:30] =\", y[0:30]) # show 30 values of malignant/benign target"
   ]
  },
  {
   "cell_type": "code",
   "execution_count": null,
   "metadata": {},
   "outputs": [],
   "source": [
    "# Create train test split, with 15% data reserved from testing.\n",
    "from sklearn.model_selection import train_test_split\n",
    "#  one line code here.\n"
   ]
  },
  {
   "cell_type": "code",
   "execution_count": null,
   "metadata": {},
   "outputs": [],
   "source": [
    "# Create a RandomForestClassifier since this is a classification problem.\n",
    "from sklearn.ensemble import RandomForestClassifier\n",
    "# one line of code here.\n",
    "\n",
    "# Fit your model.\n",
    "# one line of code here.\n",
    "\n",
    "validation_e = cl.score(X_test, y_test)\n",
    "print(f\"{validation_e*100:.2f}% correct\")"
   ]
  },
  {
   "cell_type": "code",
   "execution_count": null,
   "metadata": {},
   "outputs": [],
   "source": [
    "# Calculate the feature importances.\n",
    "# 3 lines of code here."
   ]
  },
  {
   "cell_type": "code",
   "execution_count": null,
   "metadata": {},
   "outputs": [],
   "source": []
  }
 ],
 "metadata": {
  "kernelspec": {
   "display_name": "Python 3",
   "language": "python",
   "name": "python3"
  },
  "language_info": {
   "codemirror_mode": {
    "name": "ipython",
    "version": 3
   },
   "file_extension": ".py",
   "mimetype": "text/x-python",
   "name": "python",
   "nbconvert_exporter": "python",
   "pygments_lexer": "ipython3",
   "version": "3.6.2"
  }
 },
 "nbformat": 4,
 "nbformat_minor": 4
}
