{
 "cells": [
  {
   "cell_type": "markdown",
   "metadata": {},
   "source": [
    "# 02.1 Introduction to Machine Learning"
   ]
  },
  {
   "cell_type": "markdown",
   "metadata": {},
   "source": [
    "### General concepts\n",
    "\n",
    "Artificial Intelligence, Machine Learning & Deep Learning\n",
    "\n",
    "\n",
    "![AI vs ML vs DL](images/ai_ml_dl.png)"
   ]
  },
  {
   "cell_type": "markdown",
   "metadata": {},
   "source": [
    "Types of Machine Learning\n",
    "![Types of ML](images/ml_types.jpg)"
   ]
  },
  {
   "cell_type": "markdown",
   "metadata": {},
   "source": [
    "What ML technique to choose when ?\n",
    "![Ml Map](images/ml_map.png)"
   ]
  },
  {
   "cell_type": "markdown",
   "metadata": {},
   "source": [
    "### Predict Rent price!!"
   ]
  },
  {
   "cell_type": "code",
   "execution_count": 11,
   "metadata": {},
   "outputs": [],
   "source": [
    "import pandas as pd\n",
    "import warnings\n",
    "warnings.filterwarnings(\"ignore\")\n",
    "rent = pd.read_csv(\"data/rent-ideal.csv\")"
   ]
  },
  {
   "cell_type": "markdown",
   "metadata": {},
   "source": [
    "* Training Data. - Data used to learn from.\n",
    "\n",
    "* Features - Variables used to learn from.\n",
    "\n",
    "* Target - Quantity/Label to be learned.\n"
   ]
  },
  {
   "cell_type": "code",
   "execution_count": 12,
   "metadata": {},
   "outputs": [
    {
     "data": {
      "text/html": [
       "<div>\n",
       "<style scoped>\n",
       "    .dataframe tbody tr th:only-of-type {\n",
       "        vertical-align: middle;\n",
       "    }\n",
       "\n",
       "    .dataframe tbody tr th {\n",
       "        vertical-align: top;\n",
       "    }\n",
       "\n",
       "    .dataframe thead th {\n",
       "        text-align: right;\n",
       "    }\n",
       "</style>\n",
       "<table border=\"1\" class=\"dataframe\">\n",
       "  <thead>\n",
       "    <tr style=\"text-align: right;\">\n",
       "      <th></th>\n",
       "      <th>bedrooms</th>\n",
       "      <th>bathrooms</th>\n",
       "      <th>latitude</th>\n",
       "      <th>longitude</th>\n",
       "      <th>price</th>\n",
       "    </tr>\n",
       "  </thead>\n",
       "  <tbody>\n",
       "    <tr>\n",
       "      <th>0</th>\n",
       "      <td>3</td>\n",
       "      <td>1.5</td>\n",
       "      <td>40.7145</td>\n",
       "      <td>-73.9425</td>\n",
       "      <td>3000</td>\n",
       "    </tr>\n",
       "    <tr>\n",
       "      <th>1</th>\n",
       "      <td>2</td>\n",
       "      <td>1.0</td>\n",
       "      <td>40.7947</td>\n",
       "      <td>-73.9667</td>\n",
       "      <td>5465</td>\n",
       "    </tr>\n",
       "    <tr>\n",
       "      <th>2</th>\n",
       "      <td>1</td>\n",
       "      <td>1.0</td>\n",
       "      <td>40.7388</td>\n",
       "      <td>-74.0018</td>\n",
       "      <td>2850</td>\n",
       "    </tr>\n",
       "    <tr>\n",
       "      <th>3</th>\n",
       "      <td>1</td>\n",
       "      <td>1.0</td>\n",
       "      <td>40.7539</td>\n",
       "      <td>-73.9677</td>\n",
       "      <td>3275</td>\n",
       "    </tr>\n",
       "    <tr>\n",
       "      <th>4</th>\n",
       "      <td>4</td>\n",
       "      <td>1.0</td>\n",
       "      <td>40.8241</td>\n",
       "      <td>-73.9493</td>\n",
       "      <td>3350</td>\n",
       "    </tr>\n",
       "  </tbody>\n",
       "</table>\n",
       "</div>"
      ],
      "text/plain": [
       "   bedrooms  bathrooms  latitude  longitude  price\n",
       "0         3        1.5   40.7145   -73.9425   3000\n",
       "1         2        1.0   40.7947   -73.9667   5465\n",
       "2         1        1.0   40.7388   -74.0018   2850\n",
       "3         1        1.0   40.7539   -73.9677   3275\n",
       "4         4        1.0   40.8241   -73.9493   3350"
      ]
     },
     "execution_count": 12,
     "metadata": {},
     "output_type": "execute_result"
    }
   ],
   "source": [
    "rent.head()"
   ]
  },
  {
   "cell_type": "code",
   "execution_count": 13,
   "metadata": {},
   "outputs": [
    {
     "data": {
      "text/html": [
       "<div>\n",
       "<style scoped>\n",
       "    .dataframe tbody tr th:only-of-type {\n",
       "        vertical-align: middle;\n",
       "    }\n",
       "\n",
       "    .dataframe tbody tr th {\n",
       "        vertical-align: top;\n",
       "    }\n",
       "\n",
       "    .dataframe thead th {\n",
       "        text-align: right;\n",
       "    }\n",
       "</style>\n",
       "<table border=\"1\" class=\"dataframe\">\n",
       "  <thead>\n",
       "    <tr style=\"text-align: right;\">\n",
       "      <th></th>\n",
       "      <th>bedrooms</th>\n",
       "      <th>bathrooms</th>\n",
       "      <th>latitude</th>\n",
       "      <th>longitude</th>\n",
       "      <th>price</th>\n",
       "    </tr>\n",
       "  </thead>\n",
       "  <tbody>\n",
       "    <tr>\n",
       "      <th>1470</th>\n",
       "      <td>0</td>\n",
       "      <td>1.0</td>\n",
       "      <td>40.7073</td>\n",
       "      <td>-73.9664</td>\n",
       "      <td>2650</td>\n",
       "    </tr>\n",
       "    <tr>\n",
       "      <th>36509</th>\n",
       "      <td>0</td>\n",
       "      <td>1.0</td>\n",
       "      <td>40.7073</td>\n",
       "      <td>-73.9664</td>\n",
       "      <td>2850</td>\n",
       "    </tr>\n",
       "    <tr>\n",
       "      <th>39241</th>\n",
       "      <td>0</td>\n",
       "      <td>1.0</td>\n",
       "      <td>40.7073</td>\n",
       "      <td>-73.9664</td>\n",
       "      <td>2950</td>\n",
       "    </tr>\n",
       "    <tr>\n",
       "      <th>46405</th>\n",
       "      <td>0</td>\n",
       "      <td>1.0</td>\n",
       "      <td>40.7073</td>\n",
       "      <td>-73.9664</td>\n",
       "      <td>2850</td>\n",
       "    </tr>\n",
       "  </tbody>\n",
       "</table>\n",
       "</div>"
      ],
      "text/plain": [
       "       bedrooms  bathrooms  latitude  longitude  price\n",
       "1470          0        1.0   40.7073   -73.9664   2650\n",
       "36509         0        1.0   40.7073   -73.9664   2850\n",
       "39241         0        1.0   40.7073   -73.9664   2950\n",
       "46405         0        1.0   40.7073   -73.9664   2850"
      ]
     },
     "execution_count": 13,
     "metadata": {},
     "output_type": "execute_result"
    }
   ],
   "source": [
    "samev = rent[(rent.bedrooms==0) \n",
    "             & (rent.bathrooms==1.0) \n",
    "             & (rent.latitude==40.7073) \n",
    "             & (rent.longitude==-73.9664)]\n",
    "samev"
   ]
  },
  {
   "cell_type": "code",
   "execution_count": 14,
   "metadata": {},
   "outputs": [
    {
     "data": {
      "text/html": [
       "<div>\n",
       "<style scoped>\n",
       "    .dataframe tbody tr th:only-of-type {\n",
       "        vertical-align: middle;\n",
       "    }\n",
       "\n",
       "    .dataframe tbody tr th {\n",
       "        vertical-align: top;\n",
       "    }\n",
       "\n",
       "    .dataframe thead th {\n",
       "        text-align: right;\n",
       "    }\n",
       "</style>\n",
       "<table border=\"1\" class=\"dataframe\">\n",
       "  <thead>\n",
       "    <tr style=\"text-align: right;\">\n",
       "      <th></th>\n",
       "      <th>bedrooms</th>\n",
       "      <th>bathrooms</th>\n",
       "      <th>price</th>\n",
       "    </tr>\n",
       "  </thead>\n",
       "  <tbody>\n",
       "    <tr>\n",
       "      <th>0</th>\n",
       "      <td>0</td>\n",
       "      <td>0.0</td>\n",
       "      <td>2872.927152</td>\n",
       "    </tr>\n",
       "    <tr>\n",
       "      <th>1</th>\n",
       "      <td>0</td>\n",
       "      <td>1.0</td>\n",
       "      <td>2442.550233</td>\n",
       "    </tr>\n",
       "    <tr>\n",
       "      <th>2</th>\n",
       "      <td>0</td>\n",
       "      <td>1.5</td>\n",
       "      <td>3391.111111</td>\n",
       "    </tr>\n",
       "    <tr>\n",
       "      <th>3</th>\n",
       "      <td>0</td>\n",
       "      <td>2.0</td>\n",
       "      <td>5354.071429</td>\n",
       "    </tr>\n",
       "    <tr>\n",
       "      <th>4</th>\n",
       "      <td>0</td>\n",
       "      <td>4.0</td>\n",
       "      <td>7995.000000</td>\n",
       "    </tr>\n",
       "    <tr>\n",
       "      <th>5</th>\n",
       "      <td>1</td>\n",
       "      <td>0.0</td>\n",
       "      <td>2944.191781</td>\n",
       "    </tr>\n",
       "    <tr>\n",
       "      <th>6</th>\n",
       "      <td>1</td>\n",
       "      <td>1.0</td>\n",
       "      <td>3015.542693</td>\n",
       "    </tr>\n",
       "    <tr>\n",
       "      <th>7</th>\n",
       "      <td>1</td>\n",
       "      <td>1.5</td>\n",
       "      <td>4570.165563</td>\n",
       "    </tr>\n",
       "    <tr>\n",
       "      <th>8</th>\n",
       "      <td>1</td>\n",
       "      <td>2.0</td>\n",
       "      <td>4461.000000</td>\n",
       "    </tr>\n",
       "    <tr>\n",
       "      <th>9</th>\n",
       "      <td>1</td>\n",
       "      <td>2.5</td>\n",
       "      <td>4872.500000</td>\n",
       "    </tr>\n",
       "  </tbody>\n",
       "</table>\n",
       "</div>"
      ],
      "text/plain": [
       "   bedrooms  bathrooms        price\n",
       "0         0        0.0  2872.927152\n",
       "1         0        1.0  2442.550233\n",
       "2         0        1.5  3391.111111\n",
       "3         0        2.0  5354.071429\n",
       "4         0        4.0  7995.000000\n",
       "5         1        0.0  2944.191781\n",
       "6         1        1.0  3015.542693\n",
       "7         1        1.5  4570.165563\n",
       "8         1        2.0  4461.000000\n",
       "9         1        2.5  4872.500000"
      ]
     },
     "execution_count": 14,
     "metadata": {},
     "output_type": "execute_result"
    }
   ],
   "source": [
    "grouped = rent.reset_index(drop=True).groupby(['bedrooms','bathrooms']).mean().reset_index()\n",
    "grouped = grouped.drop(['latitude','longitude'], axis=1)\n",
    "grouped.head(10)"
   ]
  },
  {
   "cell_type": "code",
   "execution_count": 15,
   "metadata": {},
   "outputs": [
    {
     "name": "stdout",
     "output_type": "stream",
     "text": [
      " \n",
      "-15.39 x + 5064\n"
     ]
    },
    {
     "data": {
      "text/plain": [
       "<matplotlib.legend.Legend at 0x114429208>"
      ]
     },
     "execution_count": 15,
     "metadata": {},
     "output_type": "execute_result"
    },
    {
     "data": {
      "image/png": "[encoded data removed]",
      "text/plain": [
       "<Figure size 432x288 with 1 Axes>"
      ]
     },
     "metadata": {
      "needs_background": "light"
     },
     "output_type": "display_data"
    }
   ],
   "source": [
    "import matplotlib.pyplot as plt\n",
    "import numpy as np\n",
    "\n",
    "bookcolors = {'crimson': '#a50026', 'red': '#d73027', 'redorange': '#f46d43',\n",
    "              'orange': '#fdae61', 'yellow': '#fee090', 'sky': '#e0f3f8', \n",
    "              'babyblue': '#abd9e9', 'lightblue': '#74add1', 'blue': '#4575b4',\n",
    "              'purple': '#313695'}\n",
    "              \n",
    "bybaths = rent.groupby(['bathrooms']).mean()\n",
    "bybaths.reset_index()[['bathrooms','price']]\n",
    "baths = bybaths.reset_index()['bathrooms']\n",
    "fit = np.polyfit(baths, bybaths['price'], deg=1)\n",
    "poly = np.poly1d(fit)\n",
    "print(poly)\n",
    "x = [baths.min(), baths.max()]\n",
    "y = poly(x)\n",
    "\n",
    "bybaths[['price']].plot(alpha=0.8,marker='o',color=bookcolors['blue'])\n",
    "plt.plot(x,y, '-', color=bookcolors['red'])\n",
    "\n",
    "plt.xlabel(\"Bathrooms\")\n",
    "plt.ylabel(\"Average apt price\")\n",
    "plt.legend(['Price','Linear model'], loc='upper right')"
   ]
  },
  {
   "cell_type": "markdown",
   "metadata": {},
   "source": [
    "Linear Model\n",
    "\n",
    "![Linear Model](images/linear_model.svg)"
   ]
  },
  {
   "cell_type": "code",
   "execution_count": 16,
   "metadata": {},
   "outputs": [
    {
     "data": {
      "text/html": [
       "<div>\n",
       "<style scoped>\n",
       "    .dataframe tbody tr th:only-of-type {\n",
       "        vertical-align: middle;\n",
       "    }\n",
       "\n",
       "    .dataframe tbody tr th {\n",
       "        vertical-align: top;\n",
       "    }\n",
       "\n",
       "    .dataframe thead th {\n",
       "        text-align: right;\n",
       "    }\n",
       "</style>\n",
       "<table border=\"1\" class=\"dataframe\">\n",
       "  <thead>\n",
       "    <tr style=\"text-align: right;\">\n",
       "      <th></th>\n",
       "      <th>bedrooms</th>\n",
       "      <th>bathrooms</th>\n",
       "      <th>latitude</th>\n",
       "      <th>longitude</th>\n",
       "      <th>price</th>\n",
       "    </tr>\n",
       "  </thead>\n",
       "  <tbody>\n",
       "    <tr>\n",
       "      <th>701</th>\n",
       "      <td>1</td>\n",
       "      <td>1.0</td>\n",
       "      <td>40.6661</td>\n",
       "      <td>-73.9882</td>\n",
       "      <td>2200</td>\n",
       "    </tr>\n",
       "    <tr>\n",
       "      <th>41397</th>\n",
       "      <td>1</td>\n",
       "      <td>1.0</td>\n",
       "      <td>40.6661</td>\n",
       "      <td>-73.9882</td>\n",
       "      <td>2100</td>\n",
       "    </tr>\n",
       "    <tr>\n",
       "      <th>41476</th>\n",
       "      <td>1</td>\n",
       "      <td>1.0</td>\n",
       "      <td>40.6661</td>\n",
       "      <td>-73.9882</td>\n",
       "      <td>2100</td>\n",
       "    </tr>\n",
       "    <tr>\n",
       "      <th>42254</th>\n",
       "      <td>1</td>\n",
       "      <td>1.0</td>\n",
       "      <td>40.6661</td>\n",
       "      <td>-73.9882</td>\n",
       "      <td>2200</td>\n",
       "    </tr>\n",
       "    <tr>\n",
       "      <th>45510</th>\n",
       "      <td>1</td>\n",
       "      <td>1.0</td>\n",
       "      <td>40.6661</td>\n",
       "      <td>-73.9882</td>\n",
       "      <td>2100</td>\n",
       "    </tr>\n",
       "    <tr>\n",
       "      <th>408</th>\n",
       "      <td>2</td>\n",
       "      <td>1.0</td>\n",
       "      <td>40.6661</td>\n",
       "      <td>-73.9882</td>\n",
       "      <td>2500</td>\n",
       "    </tr>\n",
       "    <tr>\n",
       "      <th>16876</th>\n",
       "      <td>2</td>\n",
       "      <td>1.0</td>\n",
       "      <td>40.6661</td>\n",
       "      <td>-73.9882</td>\n",
       "      <td>2500</td>\n",
       "    </tr>\n",
       "    <tr>\n",
       "      <th>40852</th>\n",
       "      <td>2</td>\n",
       "      <td>1.0</td>\n",
       "      <td>40.6661</td>\n",
       "      <td>-73.9882</td>\n",
       "      <td>2500</td>\n",
       "    </tr>\n",
       "    <tr>\n",
       "      <th>165</th>\n",
       "      <td>1</td>\n",
       "      <td>1.0</td>\n",
       "      <td>40.6663</td>\n",
       "      <td>-73.9402</td>\n",
       "      <td>1800</td>\n",
       "    </tr>\n",
       "    <tr>\n",
       "      <th>9113</th>\n",
       "      <td>1</td>\n",
       "      <td>1.0</td>\n",
       "      <td>40.6663</td>\n",
       "      <td>-73.9402</td>\n",
       "      <td>1800</td>\n",
       "    </tr>\n",
       "    <tr>\n",
       "      <th>27085</th>\n",
       "      <td>2</td>\n",
       "      <td>1.0</td>\n",
       "      <td>40.6663</td>\n",
       "      <td>-73.9402</td>\n",
       "      <td>2350</td>\n",
       "    </tr>\n",
       "  </tbody>\n",
       "</table>\n",
       "</div>"
      ],
      "text/plain": [
       "       bedrooms  bathrooms  latitude  longitude  price\n",
       "701           1        1.0   40.6661   -73.9882   2200\n",
       "41397         1        1.0   40.6661   -73.9882   2100\n",
       "41476         1        1.0   40.6661   -73.9882   2100\n",
       "42254         1        1.0   40.6661   -73.9882   2200\n",
       "45510         1        1.0   40.6661   -73.9882   2100\n",
       "408           2        1.0   40.6661   -73.9882   2500\n",
       "16876         2        1.0   40.6661   -73.9882   2500\n",
       "40852         2        1.0   40.6661   -73.9882   2500\n",
       "165           1        1.0   40.6663   -73.9402   1800\n",
       "9113          1        1.0   40.6663   -73.9402   1800\n",
       "27085         2        1.0   40.6663   -73.9402   2350"
      ]
     },
     "execution_count": 16,
     "metadata": {},
     "output_type": "execute_result"
    }
   ],
   "source": [
    "rent = rent.reset_index(drop=True)\n",
    "latlong = rent.sort_values(['latitude', 'longitude', 'bathrooms', 'bedrooms'])\n",
    "specific_lat = latlong[(latlong['bedrooms']>=1) &\n",
    "                        (latlong['bedrooms']<=2) &\n",
    "                        (latlong['latitude']>=40.6661) &\n",
    "                        (latlong['latitude']<=40.6663) &\n",
    "                        (latlong['longitude']>=-73.9882) &\n",
    "                        (latlong['longitude']<=-73.9402)]\n",
    "specific_lat.head(15)"
   ]
  },
  {
   "cell_type": "markdown",
   "metadata": {},
   "source": [
    "### Decision Trees"
   ]
  },
  {
   "cell_type": "markdown",
   "metadata": {},
   "source": [
    "if bedrooms==1 and bathrooms==1.0 and \\\n",
    "       latitude>=40.6661 and latitude<=40.6663 and \\\n",
    "   longitude>=-73.9882 and longitude<=-73.9402:\n",
    "   price = 2143 # average of 2200,2100,2100,2200,2100,1800,1800\n",
    "\n",
    "\n",
    "if bedrooms==2 and bathrooms==1.0 and \\\n",
    "   latitude>=40.6661 and latitude<=40.6663 and \\\n",
    "   longitude>=-73.9882 and longitude<=-73.9402:\n",
    "\tprice = 2462 # average of 2500,2500,2500,2350\n",
    "    \n",
    "![Decision Tree](images/dec_tree.svg)\n",
    "\n",
    "### RandomForest \n",
    "\n",
    "Decision trees suffer from the issue of high variance i.e highly dependent on the training data,  hence we introduce use bootstrapping and ensembling.\n",
    "\n",
    "* Bootstrapping -  training the small trees(weak learners) on a random selection of the training data instead of all members of the data set.\n",
    "* Ensembling - training a lot of them and then combining the results.\n",
    "\n",
    "* Thus combining bootstrapping, ensembling and randomness we get to RandomForest Algorithm (trademark).\n",
    "\n",
    "* RandomForest can be used in both regression as well as classification problems.\n",
    "\n",
    "* Can capture non-linear relationships\n",
    "![Rf vs Lin](images/rf_vs_lin.png)"
   ]
  },
  {
   "cell_type": "markdown",
   "metadata": {},
   "source": [
    "### ML in one picture\n",
    "![One Pic](images/one_pic.png)"
   ]
  },
  {
   "cell_type": "code",
   "execution_count": null,
   "metadata": {},
   "outputs": [],
   "source": []
  }
 ],
 "metadata": {
  "kernelspec": {
   "display_name": "Python 3",
   "language": "python",
   "name": "python3"
  },
  "language_info": {
   "codemirror_mode": {
    "name": "ipython",
    "version": 3
   },
   "file_extension": ".py",
   "mimetype": "text/x-python",
   "name": "python",
   "nbconvert_exporter": "python",
   "pygments_lexer": "ipython3",
   "version": "3.6.2"
  }
 },
 "nbformat": 4,
 "nbformat_minor": 4
}
