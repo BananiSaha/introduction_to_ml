{
 "cells": [
  {
   "cell_type": "markdown",
   "metadata": {},
   "source": [
    "## Model Selection\n",
    "Decide which model to select :\n",
    "* Overfitting vs Underfitting and Bias vs Variance\n",
    "* Cross validation techniques\n",
    "* Hyper parameter tuning\n"
   ]
  },
  {
   "cell_type": "markdown",
   "metadata": {},
   "source": [
    "### 1. Overfitting vs Underfitting & Bias vs Variance\n",
    "\n",
    "Overfitting : Producing a model that performs well on the data you train it on but generalizes poorly to any new data.\n",
    "\n",
    "Underfitting : Producing a model that doesn’t perform well even on the training data\n",
    "\n",
    "![Overfitting vs Underfitting](images/dsf2_1101.png)"
   ]
  },
  {
   "cell_type": "markdown",
   "metadata": {},
   "source": [
    "### Bias-Variance Tradeoff\n",
    "\n",
    "Both are measures of what would happen if you were to retrain your model many times on different sets of training data (from the same larger population).\n",
    "\n",
    "For example, the degree 0 model in “Overfitting and Underfitting” will make a lot of mistakes for pretty much any training set (drawn from the same population), which means that it has a high bias. However, any two randomly chosen training sets should give pretty similar models (since any two randomly chosen training sets should have pretty similar average values). So we say that it has a low variance. High bias and low variance typically correspond to underfitting.\n",
    "\n",
    "On the other hand, the degree 9 model fit the training set perfectly. It has very low bias but very high variance (since any two training sets would likely give rise to very different models). This corresponds to overfitting.\n",
    "\n",
    "Thinking about model problems this way can help you figure out what to do when your model doesn’t work so well.\n",
    "\n",
    "If your model has high bias (which means it performs poorly even on your training data), one thing to try is adding more features. Going from the degree 0 model in “Overfitting and Underfitting” to the degree 1 model was a big improvement.\n",
    "\n",
    "If your model has high variance, you can similarly remove features. But another solution is to obtain more data (if you can).\n",
    "\n",
    "In Figure 11-2, we fit a degree 9 polynomial to different size samples. The model fit based on 10 data points is all over the place, as we saw before. If we instead train on 100 data points, there’s much less overfitting. And the model trained from 1,000 data points looks very similar to the degree 1 model. Holding model complexity constant, the more data you have, the harder it is to overfit. On the other hand, more data won’t help with bias. If your model doesn’t use enough features to capture regularities in the data, throwing more data at it won’t help.\n",
    "\n"
   ]
  },
  {
   "cell_type": "markdown",
   "metadata": {},
   "source": [
    "### 2. Cross Validation\n",
    "\n",
    "Method of evaluating the generalised performance that is more stable and thorough than using a split into training and test set.\n",
    "\n",
    "![Cross Validation](images/grid_search_cross_validation.png)"
   ]
  },
  {
   "cell_type": "markdown",
   "metadata": {},
   "source": [
    "This method is also known as K-Fold cross validation."
   ]
  },
  {
   "cell_type": "code",
   "execution_count": 1,
   "metadata": {},
   "outputs": [
    {
     "data": {
      "text/plain": [
       "((150, 4), (150,))"
      ]
     },
     "execution_count": 1,
     "metadata": {},
     "output_type": "execute_result"
    }
   ],
   "source": [
    "import numpy as np\n",
    "from sklearn.model_selection import train_test_split\n",
    "from sklearn import datasets\n",
    "from sklearn.linear_model import LogisticRegression\n",
    "X, y = datasets.load_iris(return_X_y=True)\n",
    "X.shape, y.shape"
   ]
  },
  {
   "cell_type": "code",
   "execution_count": 2,
   "metadata": {},
   "outputs": [
    {
     "data": {
      "text/plain": [
       "array([0, 0, 0, 0, 0, 0, 0, 0, 0, 0, 0, 0, 0, 0, 0, 0, 0, 0, 0, 0, 0, 0,\n",
       "       0, 0, 0, 0, 0, 0, 0, 0, 0, 0, 0, 0, 0, 0, 0, 0, 0, 0, 0, 0, 0, 0,\n",
       "       0, 0, 0, 0, 0, 0, 1, 1, 1, 1, 1, 1, 1, 1, 1, 1, 1, 1, 1, 1, 1, 1,\n",
       "       1, 1, 1, 1, 1, 1, 1, 1, 1, 1, 1, 1, 1, 1, 1, 1, 1, 1, 1, 1, 1, 1,\n",
       "       1, 1, 1, 1, 1, 1, 1, 1, 1, 1, 1, 1, 2, 2, 2, 2, 2, 2, 2, 2, 2, 2,\n",
       "       2, 2, 2, 2, 2, 2, 2, 2, 2, 2, 2, 2, 2, 2, 2, 2, 2, 2, 2, 2, 2, 2,\n",
       "       2, 2, 2, 2, 2, 2, 2, 2, 2, 2, 2, 2, 2, 2, 2, 2, 2, 2])"
      ]
     },
     "execution_count": 2,
     "metadata": {},
     "output_type": "execute_result"
    }
   ],
   "source": [
    "y"
   ]
  },
  {
   "cell_type": "code",
   "execution_count": 3,
   "metadata": {},
   "outputs": [
    {
     "name": "stdout",
     "output_type": "stream",
     "text": [
      "(90, 4) (90,)\n",
      "(60, 4) (60,)\n"
     ]
    },
    {
     "data": {
      "text/plain": [
       "0.9166666666666666"
      ]
     },
     "execution_count": 3,
     "metadata": {},
     "output_type": "execute_result"
    }
   ],
   "source": [
    "X_train, X_test, y_train, y_test = train_test_split(X, y, test_size=0.4,random_state=0)\n",
    "\n",
    "print(X_train.shape, y_train.shape)\n",
    "print(X_test.shape, y_test.shape)\n",
    "\n",
    "clf = LogisticRegression(max_iter=1000)\n",
    "clf.fit(X_train,y_train)\n",
    "clf.score(X_test, y_test)"
   ]
  },
  {
   "cell_type": "code",
   "execution_count": 4,
   "metadata": {},
   "outputs": [
    {
     "name": "stdout",
     "output_type": "stream",
     "text": [
      "[1.         1.         1.         0.88888889 0.94444444]\n",
      "Accuracy: 0.97 (+/- 0.09)\n"
     ]
    }
   ],
   "source": [
    "from sklearn.model_selection import cross_val_score\n",
    "scores = cross_val_score(clf,X_train,y_train,cv=5)\n",
    "print(scores)\n",
    "print(\"Accuracy: %0.2f (+/- %0.2f)\" % (scores.mean(),scores.std()*2))"
   ]
  },
  {
   "cell_type": "code",
   "execution_count": 5,
   "metadata": {},
   "outputs": [
    {
     "name": "stdout",
     "output_type": "stream",
     "text": [
      "[1.         1.         0.94444444 0.88888889 0.94444444]\n",
      "Accuracy: 0.96 (+/- 0.08)\n"
     ]
    }
   ],
   "source": [
    "from sklearn.ensemble import RandomForestClassifier\n",
    "rf_clf= RandomForestClassifier()\n",
    "scores = cross_val_score(rf_clf, X_train, y_train,cv=5)\n",
    "print(scores)\n",
    "print(\"Accuracy: %0.2f (+/- %0.2f)\" % (scores.mean(), scores.std() * 2))"
   ]
  },
  {
   "cell_type": "code",
   "execution_count": 6,
   "metadata": {},
   "outputs": [
    {
     "name": "stdout",
     "output_type": "stream",
     "text": [
      "   fit_time  score_time  test_score  train_score\n",
      "0  0.089767    0.004990    1.000000          1.0\n",
      "1  0.093755    0.005980    1.000000          1.0\n",
      "2  0.086770    0.005987    1.000000          1.0\n",
      "3  0.089763    0.004985    0.888889          1.0\n",
      "4  0.086768    0.005984    0.944444          1.0\n"
     ]
    }
   ],
   "source": [
    "from sklearn.model_selection import cross_validate\n",
    "import pandas as pd\n",
    "res = cross_validate(rf_clf,X_train,y_train,cv=5,return_train_score=True)\n",
    "print(pd.DataFrame(res))"
   ]
  },
  {
   "cell_type": "markdown",
   "metadata": {},
   "source": [
    "Cross validation does not build a model, but merely gives you an idea of how the model might perform for diffrent train and test combination."
   ]
  },
  {
   "cell_type": "markdown",
   "metadata": {},
   "source": [
    "#### Straified K-fold"
   ]
  },
  {
   "cell_type": "code",
   "execution_count": 7,
   "metadata": {},
   "outputs": [],
   "source": [
    "from sklearn.model_selection import KFold\n",
    "kfold = KFold(n_splits=5, shuffle=True, random_state=0)"
   ]
  },
  {
   "cell_type": "code",
   "execution_count": 8,
   "metadata": {},
   "outputs": [
    {
     "name": "stdout",
     "output_type": "stream",
     "text": [
      "   fit_time  score_time  test_score  train_score\n",
      "0  0.021915    0.000000    1.000000     0.966667\n",
      "1  0.016954    0.001032    0.833333     0.975000\n",
      "2  0.017950    0.000000    1.000000     0.966667\n",
      "3  0.018948    0.000000    1.000000     0.975000\n",
      "4  0.014961    0.000000    0.933333     0.983333\n"
     ]
    }
   ],
   "source": [
    "res = cross_validate(clf,X,y,cv=kfold,return_train_score=True)\n",
    "print(pd.DataFrame(res))"
   ]
  },
  {
   "cell_type": "markdown",
   "metadata": {},
   "source": [
    "#### Group K-Fold\n",
    "\n",
    "GroupKFold is a variation of k-fold which ensures that the same group is not represented in both testing and training sets. For example if the data is obtained from different subjects with several samples per-subject and if the model is flexible enough to learn from highly person specific features it could fail to generalize to new subjects. GroupKFold makes it possible to detect this kind of overfitting situations."
   ]
  },
  {
   "cell_type": "code",
   "execution_count": 9,
   "metadata": {},
   "outputs": [
    {
     "name": "stdout",
     "output_type": "stream",
     "text": [
      "[0 1 2 3 4 5] [6 7 8 9]\n",
      "[0 1 2 6 7 8 9] [3 4 5]\n",
      "[3 4 5 6 7 8 9] [0 1 2]\n"
     ]
    }
   ],
   "source": [
    "from sklearn.model_selection import GroupKFold\n",
    "\n",
    "X = [0.1, 0.2, 2.2, 2.4, 2.3, 4.55, 5.8, 8.8, 9, 10]\n",
    "y = [\"a\", \"b\", \"b\", \"b\", \"c\", \"c\", \"c\", \"d\", \"d\", \"d\"]\n",
    "groups = [2, 2, 2, 3, 3, 3, 4, 4, 4, 4]\n",
    "\n",
    "gkf = GroupKFold(n_splits=3)\n",
    "for train, test in gkf.split(X, y, groups=groups):\n",
    "    print(\"%s %s\" % (train, test))"
   ]
  },
  {
   "cell_type": "markdown",
   "metadata": {},
   "source": [
    "#### TimeSeriesSplit\n",
    "\n",
    "TimeSeriesSplit is a variation of k-fold which returns first  folds as train set and the  th fold as test set. Note that unlike standard cross-validation methods, successive training sets are supersets of those that come before them. Also, it adds all surplus data to the first training partition, which is always used to train the model.\n",
    "\n",
    "This class can be used to cross-validate time series data samples that are observed at fixed time intervals.\n"
   ]
  },
  {
   "cell_type": "code",
   "execution_count": 10,
   "metadata": {},
   "outputs": [
    {
     "name": "stdout",
     "output_type": "stream",
     "text": [
      "TimeSeriesSplit(max_train_size=None, n_splits=3)\n",
      "[0 1 2] [3]\n",
      "[0 1 2 3] [4]\n",
      "[0 1 2 3 4] [5]\n"
     ]
    }
   ],
   "source": [
    "from sklearn.model_selection import TimeSeriesSplit\n",
    "\n",
    "X = np.array([[1, 2], [3, 4], [1, 2], [3, 4], [1, 2], [3, 4]])\n",
    "y = np.array([1, 2, 3, 4, 5, 6])\n",
    "tscv = TimeSeriesSplit(n_splits=3)\n",
    "print(tscv)\n",
    "\n",
    "for train, test in tscv.split(X):\n",
    "    print(\"%s %s\" % (train, test))"
   ]
  },
  {
   "cell_type": "markdown",
   "metadata": {},
   "source": [
    "### 3. Hyper-parameter Tuning\n",
    "\n",
    "Hyper-parameters are parameters that are not directly learnt within estimators. In scikit-learn they are passed as arguments to the constructor of the estimator classes. \n",
    "\n",
    "eg : n_estimators for RandomForest or C for Linear regression etc\n",
    "\n",
    "* GridSearchCV : exhaustively considers all parameter combinations.\n",
    "* RandomizedSearchCV : can sample a given number of candidates from a parameter space with a specified distribution."
   ]
  },
  {
   "cell_type": "markdown",
   "metadata": {},
   "source": [
    "#### GridSearchCV"
   ]
  },
  {
   "cell_type": "code",
   "execution_count": 11,
   "metadata": {},
   "outputs": [
    {
     "name": "stdout",
     "output_type": "stream",
     "text": [
      "Test score : 0.9666666666666667\n",
      "Best parameters: {'C': 10, 'penalty': 'l2'}\n",
      "Best cross-validation score: 0.98\n",
      "Best estimator:\n",
      "LogisticRegression(C=10, class_weight=None, dual=False, fit_intercept=True,\n",
      "                   intercept_scaling=1, l1_ratio=None, max_iter=200,\n",
      "                   multi_class='auto', n_jobs=None, penalty='l2',\n",
      "                   random_state=0, solver='saga', tol=0.01, verbose=0,\n",
      "                   warm_start=False)\n"
     ]
    }
   ],
   "source": [
    "from sklearn import svm, datasets\n",
    "from sklearn.model_selection import GridSearchCV\n",
    "\n",
    "iris = datasets.load_iris()\n",
    "parameters = {'C' : [1,10,20,100],'penalty':['l2', 'l1']}\n",
    "\n",
    "lr = LogisticRegression(solver='saga', tol=1e-2, max_iter=200,random_state=0)\n",
    "\n",
    "clf = GridSearchCV(lr, parameters, cv=kfold )\n",
    "clf.fit(X_train,y_train)\n",
    "\n",
    "print(\"Test score : {}\".format(clf.score(X_test,y_test)))\n",
    "print(\"Best parameters: {}\".format(clf.best_params_))\n",
    "print(\"Best cross-validation score: {:.2f}\".format(clf.best_score_))\n",
    "print(\"Best estimator:\\n{}\".format(clf.best_estimator_))"
   ]
  },
  {
   "cell_type": "markdown",
   "metadata": {},
   "source": [
    "#### RandomizedSearchCV"
   ]
  },
  {
   "cell_type": "code",
   "execution_count": 12,
   "metadata": {},
   "outputs": [
    {
     "name": "stdout",
     "output_type": "stream",
     "text": [
      "{'C': range(1, 100, 10), 'penalty': ['l2', 'l1']}\n",
      "Test score : 0.9666666666666667\n",
      "Best parameters: {'penalty': 'l2', 'C': 91}\n",
      "Best cross-validation score: 0.98\n",
      "Best estimator:\n",
      "LogisticRegression(C=91, class_weight=None, dual=False, fit_intercept=True,\n",
      "                   intercept_scaling=1, l1_ratio=None, max_iter=200,\n",
      "                   multi_class='auto', n_jobs=None, penalty='l2',\n",
      "                   random_state=0, solver='saga', tol=0.01, verbose=0,\n",
      "                   warm_start=False)\n"
     ]
    }
   ],
   "source": [
    "from sklearn.datasets import load_iris\n",
    "from sklearn.linear_model import LogisticRegression\n",
    "from sklearn.model_selection import RandomizedSearchCV\n",
    "from scipy.stats import uniform\n",
    "iris = load_iris()\n",
    "\n",
    "logistic = LogisticRegression(solver='saga', tol=1e-2, max_iter=200,\n",
    "                              random_state=0)\n",
    "\n",
    "distributions = dict(C=range(1,100,10),\n",
    "                     penalty=['l2', 'l1'])\n",
    "print(distributions)\n",
    "\n",
    "clf = RandomizedSearchCV(logistic, distributions, random_state=0)\n",
    "\n",
    "clf.fit(X_train, y_train)\n",
    "\n",
    "print(\"Test score : {}\".format(clf.score(X_test,y_test)))\n",
    "print(\"Best parameters: {}\".format(clf.best_params_))\n",
    "print(\"Best cross-validation score: {:.2f}\".format(clf.best_score_))\n",
    "print(\"Best estimator:\\n{}\".format(clf.best_estimator_))"
   ]
  },
  {
   "cell_type": "code",
   "execution_count": 16,
   "metadata": {},
   "outputs": [
    {
     "name": "stderr",
     "output_type": "stream",
     "text": [
      "C:\\ProgramData\\Anaconda3\\lib\\site-packages\\sklearn\\linear_model\\_stochastic_gradient.py:557: ConvergenceWarning: Maximum number of iteration reached before convergence. Consider increasing max_iter to improve the fit.\n",
      "  ConvergenceWarning)\n",
      "C:\\ProgramData\\Anaconda3\\lib\\site-packages\\sklearn\\linear_model\\_stochastic_gradient.py:557: ConvergenceWarning: Maximum number of iteration reached before convergence. Consider increasing max_iter to improve the fit.\n",
      "  ConvergenceWarning)\n"
     ]
    },
    {
     "name": "stdout",
     "output_type": "stream",
     "text": [
      "RandomizedSearchCV took 29.03 seconds for 20 candidates parameter settings.\n",
      "Cadidates---[4]\n",
      "Model with rank: 1\n",
      "Mean validation score: 0.922 (std: 0.044)\n",
      "Parameters: {'alpha': 0.0032395331419373145, 'average': False, 'l1_ratio': 0.7062283534093181}\n",
      "\n",
      "Cadidates---[19]\n",
      "Model with rank: 2\n",
      "Mean validation score: 0.922 (std: 0.028)\n",
      "Parameters: {'alpha': 0.0001178743277844026, 'average': False, 'l1_ratio': 0.8066055297212544}\n",
      "\n",
      "Cadidates---[10]\n",
      "Model with rank: 3\n",
      "Mean validation score: 0.922 (std: 0.026)\n",
      "Parameters: {'alpha': 0.005735084452559008, 'average': True, 'l1_ratio': 0.022971766144494143}\n",
      "\n",
      "results:----{'mean_fit_time': array([0.09744067, 0.21142707, 0.53870125, 0.57087417, 0.21343083,\n",
      "       0.06283169, 0.4842267 , 0.11908097, 0.06761932, 0.06672616,\n",
      "       0.11839347, 0.14786048, 0.07221217, 0.12007856, 0.16436391,\n",
      "       0.16436014, 0.131359  , 0.77624121, 1.46726513, 0.13245144]), 'std_fit_time': array([0.00902886, 0.02209871, 0.04281862, 0.19305214, 0.0211455 ,\n",
      "       0.00627656, 0.05094944, 0.01981248, 0.01231864, 0.01084841,\n",
      "       0.01059719, 0.01195202, 0.00343079, 0.00529955, 0.02340627,\n",
      "       0.03047568, 0.01788647, 0.08852766, 0.21245857, 0.01698853]), 'mean_score_time': array([0.0003993 , 0.00059953, 0.00019612, 0.00059171, 0.00039921,\n",
      "       0.00059843, 0.00038881, 0.00079813, 0.        , 0.00039897,\n",
      "       0.00039825, 0.00019941, 0.00039887, 0.00019951, 0.00019946,\n",
      "       0.00059867, 0.00019965, 0.00039477, 0.00098524, 0.        ]), 'std_score_time': array([4.89044929e-04, 4.89545760e-04, 3.92246246e-04, 4.83290689e-04,\n",
      "       4.88928244e-04, 4.88616574e-04, 4.76204486e-04, 3.99065146e-04,\n",
      "       0.00000000e+00, 4.88636085e-04, 4.87761915e-04, 3.98826599e-04,\n",
      "       4.88519238e-04, 3.99017334e-04, 3.98921967e-04, 4.88811397e-04,\n",
      "       3.99303436e-04, 4.83554409e-04, 1.90702674e-05, 0.00000000e+00]), 'param_alpha': masked_array(data=[0.04127926268166725, 0.0024029260233573886,\n",
      "                   0.055576582253522445, 0.0010222766996410076,\n",
      "                   0.0032395331419373145, 0.4118080743925746,\n",
      "                   0.07536818905927214, 0.0004574293857881876,\n",
      "                   0.3601125998812704, 0.29402366269095564,\n",
      "                   0.005735084452559008, 0.0005840622187302722,\n",
      "                   0.1255092385618091, 0.00014493742215247965,\n",
      "                   0.00013059085809844477, 0.0031219530978532145,\n",
      "                   0.01462225065354061, 0.0033100958605829355,\n",
      "                   0.011043158966606171, 0.0001178743277844026],\n",
      "             mask=[False, False, False, False, False, False, False, False,\n",
      "                   False, False, False, False, False, False, False, False,\n",
      "                   False, False, False, False],\n",
      "       fill_value='?',\n",
      "            dtype=object), 'param_average': masked_array(data=[True, True, True, False, False, False, False, False,\n",
      "                   True, True, True, True, True, False, True, False,\n",
      "                   False, False, True, False],\n",
      "             mask=[False, False, False, False, False, False, False, False,\n",
      "                   False, False, False, False, False, False, False, False,\n",
      "                   False, False, False, False],\n",
      "       fill_value='?',\n",
      "            dtype=object), 'param_l1_ratio': masked_array(data=[0.5027394783941508, 0.6246952999619794,\n",
      "                   0.9073372022914913, 0.9795547431816836,\n",
      "                   0.7062283534093181, 0.4918060650411049,\n",
      "                   0.9274157634097817, 0.16642988275991621,\n",
      "                   0.6275461902329781, 0.5554132582884226,\n",
      "                   0.022971766144494143, 0.5505817987192126,\n",
      "                   0.30368883744901654, 0.5391863580080278,\n",
      "                   0.9254154549417369, 0.6275195896693301,\n",
      "                   0.5875595875764986, 0.9102218121570278,\n",
      "                   0.9714428252754979, 0.8066055297212544],\n",
      "             mask=[False, False, False, False, False, False, False, False,\n",
      "                   False, False, False, False, False, False, False, False,\n",
      "                   False, False, False, False],\n",
      "       fill_value='?',\n",
      "            dtype=object), 'params': [{'alpha': 0.04127926268166725, 'average': True, 'l1_ratio': 0.5027394783941508}, {'alpha': 0.0024029260233573886, 'average': True, 'l1_ratio': 0.6246952999619794}, {'alpha': 0.055576582253522445, 'average': True, 'l1_ratio': 0.9073372022914913}, {'alpha': 0.0010222766996410076, 'average': False, 'l1_ratio': 0.9795547431816836}, {'alpha': 0.0032395331419373145, 'average': False, 'l1_ratio': 0.7062283534093181}, {'alpha': 0.4118080743925746, 'average': False, 'l1_ratio': 0.4918060650411049}, {'alpha': 0.07536818905927214, 'average': False, 'l1_ratio': 0.9274157634097817}, {'alpha': 0.0004574293857881876, 'average': False, 'l1_ratio': 0.16642988275991621}, {'alpha': 0.3601125998812704, 'average': True, 'l1_ratio': 0.6275461902329781}, {'alpha': 0.29402366269095564, 'average': True, 'l1_ratio': 0.5554132582884226}, {'alpha': 0.005735084452559008, 'average': True, 'l1_ratio': 0.022971766144494143}, {'alpha': 0.0005840622187302722, 'average': True, 'l1_ratio': 0.5505817987192126}, {'alpha': 0.1255092385618091, 'average': True, 'l1_ratio': 0.30368883744901654}, {'alpha': 0.00014493742215247965, 'average': False, 'l1_ratio': 0.5391863580080278}, {'alpha': 0.00013059085809844477, 'average': True, 'l1_ratio': 0.9254154549417369}, {'alpha': 0.0031219530978532145, 'average': False, 'l1_ratio': 0.6275195896693301}, {'alpha': 0.01462225065354061, 'average': False, 'l1_ratio': 0.5875595875764986}, {'alpha': 0.0033100958605829355, 'average': False, 'l1_ratio': 0.9102218121570278}, {'alpha': 0.011043158966606171, 'average': True, 'l1_ratio': 0.9714428252754979}, {'alpha': 0.0001178743277844026, 'average': False, 'l1_ratio': 0.8066055297212544}], 'split0_test_score': array([0.07777778, 0.91666667, 0.49722222, 0.90555556, 0.91944444,\n",
      "       0.88611111, 0.86388889, 0.91111111, 0.07222222, 0.        ,\n",
      "       0.93055556, 0.93333333, 0.04722222, 0.90833333, 0.92222222,\n",
      "       0.91111111, 0.89444444, 0.91111111, 0.91666667, 0.91111111]), 'split1_test_score': array([0.08333333, 0.875     , 0.43611111, 0.87222222, 0.86111111,\n",
      "       0.81111111, 0.78888889, 0.84722222, 0.09444444, 0.        ,\n",
      "       0.9       , 0.87222222, 0.        , 0.87222222, 0.88333333,\n",
      "       0.86666667, 0.83888889, 0.88055556, 0.84444444, 0.88888889]), 'split2_test_score': array([0.07799443, 0.96657382, 0.56267409, 0.93871866, 0.97771588,\n",
      "       0.88300836, 0.9275766 , 0.9275766 , 0.        , 0.        ,\n",
      "       0.93871866, 0.94428969, 0.00278552, 0.95264624, 0.94707521,\n",
      "       0.93871866, 0.94150418, 0.95821727, 0.92200557, 0.96100279]), 'split3_test_score': array([0.02785515, 0.94150418, 0.67130919, 0.94986072, 0.9637883 ,\n",
      "       0.86908078, 0.84958217, 0.94986072, 0.09749304, 0.00835655,\n",
      "       0.95543175, 0.94986072, 0.        , 0.94707521, 0.94428969,\n",
      "       0.95543175, 0.93314763, 0.93593315, 0.95264624, 0.94707521]), 'split4_test_score': array([0.08077994, 0.86908078, 0.42896936, 0.88579387, 0.88579387,\n",
      "       0.82729805, 0.81615599, 0.8913649 , 0.00835655, 0.02785515,\n",
      "       0.88300836, 0.88857939, 0.03342618, 0.89693593, 0.90529248,\n",
      "       0.8913649 , 0.8718663 , 0.87743733, 0.88300836, 0.89972145]), 'mean_test_score': array([0.06954813, 0.91376509, 0.5192572 , 0.91043021, 0.92157072,\n",
      "       0.85532188, 0.84921851, 0.90542711, 0.05450325, 0.00724234,\n",
      "       0.92154287, 0.91765707, 0.01668678, 0.91544259, 0.92044259,\n",
      "       0.91265862, 0.89597029, 0.91265088, 0.90375426, 0.92155989]), 'std_test_score': array([0.02094544, 0.03759271, 0.09006169, 0.02981799, 0.04443978,\n",
      "       0.03047541, 0.04709169, 0.03487924, 0.0420892 , 0.01080263,\n",
      "       0.02635791, 0.03131119, 0.01981294, 0.03048203, 0.02403236,\n",
      "       0.03187395, 0.03820237, 0.03127566, 0.03698192, 0.02778583]), 'rank_test_score': array([17,  7, 16, 10,  1, 14, 15, 11, 18, 20,  3,  5, 19,  6,  4,  8, 13,\n",
      "        9, 12,  2])}\n"
     ]
    },
    {
     "name": "stderr",
     "output_type": "stream",
     "text": [
      "C:\\ProgramData\\Anaconda3\\lib\\site-packages\\sklearn\\linear_model\\_stochastic_gradient.py:557: ConvergenceWarning: Maximum number of iteration reached before convergence. Consider increasing max_iter to improve the fit.\n",
      "  ConvergenceWarning)\n",
      "C:\\ProgramData\\Anaconda3\\lib\\site-packages\\sklearn\\linear_model\\_stochastic_gradient.py:557: ConvergenceWarning: Maximum number of iteration reached before convergence. Consider increasing max_iter to improve the fit.\n",
      "  ConvergenceWarning)\n",
      "C:\\ProgramData\\Anaconda3\\lib\\site-packages\\sklearn\\linear_model\\_stochastic_gradient.py:557: ConvergenceWarning: Maximum number of iteration reached before convergence. Consider increasing max_iter to improve the fit.\n",
      "  ConvergenceWarning)\n",
      "C:\\ProgramData\\Anaconda3\\lib\\site-packages\\sklearn\\linear_model\\_stochastic_gradient.py:557: ConvergenceWarning: Maximum number of iteration reached before convergence. Consider increasing max_iter to improve the fit.\n",
      "  ConvergenceWarning)\n",
      "C:\\ProgramData\\Anaconda3\\lib\\site-packages\\sklearn\\linear_model\\_stochastic_gradient.py:557: ConvergenceWarning: Maximum number of iteration reached before convergence. Consider increasing max_iter to improve the fit.\n",
      "  ConvergenceWarning)\n"
     ]
    },
    {
     "name": "stdout",
     "output_type": "stream",
     "text": [
      "GridSearchCV took 100.47 seconds for 100 candidate parameter settings.\n",
      "Cadidates---[1]\n",
      "Model with rank: 1\n",
      "Mean validation score: 0.928 (std: 0.029)\n",
      "Parameters: {'alpha': 0.0001, 'average': True, 'l1_ratio': 0.1111111111111111}\n",
      "\n",
      "Cadidates---[5]\n",
      "Model with rank: 2\n",
      "Mean validation score: 0.928 (std: 0.028)\n",
      "Parameters: {'alpha': 0.0001, 'average': True, 'l1_ratio': 0.5555555555555556}\n",
      "\n",
      "Cadidates---[20]\n",
      "Model with rank: 3\n",
      "Mean validation score: 0.926 (std: 0.029)\n",
      "Parameters: {'alpha': 0.001, 'average': True, 'l1_ratio': 0.0}\n",
      "\n"
     ]
    }
   ],
   "source": [
    "import numpy as np\n",
    "\n",
    "from time import time\n",
    "import scipy.stats as stats\n",
    "from sklearn.utils.fixes import loguniform\n",
    "\n",
    "from sklearn.model_selection import GridSearchCV, RandomizedSearchCV\n",
    "from sklearn.datasets import load_digits\n",
    "from sklearn.linear_model import SGDClassifier\n",
    "\n",
    "# get some data\n",
    "X, y = load_digits(return_X_y=True)\n",
    "\n",
    "# build a classifier\n",
    "clf = SGDClassifier(loss='hinge', penalty='elasticnet',\n",
    "                    fit_intercept=True)\n",
    "\n",
    "\n",
    "# Utility function to report best scores\n",
    "def report(results, n_top=3):\n",
    "    for i in range(1, n_top + 1):\n",
    "        candidates = np.flatnonzero(results['rank_test_score'] == i)\n",
    "        print(\"Cadidates---{0}\".format(candidates))\n",
    "        for candidate in candidates:\n",
    "            print(\"Model with rank: {0}\".format(i))\n",
    "            print(\"Mean validation score: {0:.3f} (std: {1:.3f})\"\n",
    "                  .format(results['mean_test_score'][candidate],\n",
    "                          results['std_test_score'][candidate]))\n",
    "            print(\"Parameters: {0}\".format(results['params'][candidate]))\n",
    "            print(\"\")\n",
    "\n",
    "\n",
    "# specify parameters and distributions to sample from\n",
    "param_dist = {'average': [True, False],\n",
    "              'l1_ratio': stats.uniform(0, 1),\n",
    "              'alpha': loguniform(1e-4, 1e0)}\n",
    "\n",
    "# run randomized search\n",
    "n_iter_search = 20\n",
    "random_search = RandomizedSearchCV(clf, param_distributions=param_dist,\n",
    "                                   n_iter=n_iter_search)\n",
    "\n",
    "start = time()\n",
    "random_search.fit(X, y)\n",
    "print(\"RandomizedSearchCV took %.2f seconds for %d candidates\"\n",
    "      \" parameter settings.\" % ((time() - start), n_iter_search))\n",
    "report(random_search.cv_results_)\n",
    "# use a full grid over all parameters\n",
    "param_grid = {'average': [True, False],\n",
    "              'l1_ratio': np.linspace(0, 1, num=10),\n",
    "              'alpha': np.power(10, np.arange(-4, 1, dtype=float))}\n",
    "\n",
    "# run grid search\n",
    "grid_search = GridSearchCV(clf, param_grid=param_grid)\n",
    "start = time()\n",
    "grid_search.fit(X, y)\n",
    "\n",
    "print(\"GridSearchCV took %.2f seconds for %d candidate parameter settings.\"\n",
    "      % (time() - start, len(grid_search.cv_results_['params'])))\n",
    "report(grid_search.cv_results_)"
   ]
  },
  {
   "cell_type": "markdown",
   "metadata": {},
   "source": [
    "#### Putting it all together:\n",
    "![All together](images/all_together.png)"
   ]
  },
  {
   "cell_type": "markdown",
   "metadata": {},
   "source": [
    "End-to-usecase, plot to use..\n",
    "Kaggle competiion"
   ]
  },
  {
   "cell_type": "code",
   "execution_count": null,
   "metadata": {},
   "outputs": [],
   "source": []
  }
 ],
 "metadata": {
  "kernelspec": {
   "display_name": "Python 3",
   "language": "python",
   "name": "python3"
  },
  "language_info": {
   "codemirror_mode": {
    "name": "ipython",
    "version": 3
   },
   "file_extension": ".py",
   "mimetype": "text/x-python",
   "name": "python",
   "nbconvert_exporter": "python",
   "pygments_lexer": "ipython3",
   "version": "3.7.6"
  }
 },
 "nbformat": 4,
 "nbformat_minor": 4
}
